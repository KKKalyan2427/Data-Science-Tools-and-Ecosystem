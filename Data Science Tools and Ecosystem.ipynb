{
 "cells": [
  {
   "cell_type": "markdown",
   "id": "48cbccaa-eaab-4e4b-893c-28b5280644ca",
   "metadata": {},
   "source": [
    "# Data Science Tools and Ecosystem"
   ]
  },
  {
   "cell_type": "markdown",
   "id": "f8dba5a4-7dd7-4e08-be99-514019473a7a",
   "metadata": {},
   "source": [
    "In this notebook, Data Science Tools and Ecosystem are summarized.\n",
    "\n",
    "**Objectives:** IBM Data Science Professional Certificate Course is designed for providing the skills and fundamentals of Data Science. Upon completion of the course, one can gain in-demand skills and knowledge of various tools, libraries, and projects. Moreover, IBM Certificate is recognized by the global IT industry.\n",
    "\n",
    "List popular languages for Data Science\n",
    "- Python\n",
    "-  R\n",
    "- Julia\n",
    "- Scala"
   ]
  },
  {
   "cell_type": "markdown",
   "id": "27cfedff-9ab3-4b54-9056-3661d4ad4a32",
   "metadata": {},
   "source": [
    "Some of the popular languages that Data Scientists use are:\n",
    "1. Python\n",
    "2. R\n",
    "3. Julia\n",
    "4. Scala"
   ]
  },
  {
   "cell_type": "markdown",
   "id": "3b2841ca-9110-4426-bfa0-d2c5e90bf65f",
   "metadata": {},
   "source": [
    "Some of the commonly used libraries used by Data Scientists include:\n",
    "1. Numpy\n",
    "2. Pandas \n",
    "3. Scikit Learn\n",
    "4. Matplot Lib."
   ]
  },
  {
   "cell_type": "markdown",
   "id": "cf10e5a7-7342-4f46-8704-7b7fa7077707",
   "metadata": {},
   "source": [
    "|**Data Science Tools**|\n",
    "|----------------------|\n",
    "|IBM Watson Studio     |\n",
    "|IBM DB2               |\n",
    "|Hodoop                |"
   ]
  },
  {
   "cell_type": "markdown",
   "id": "1eb0cb21-078f-40d3-801b-2f2c7f787971",
   "metadata": {},
   "source": [
    "### Below are a few examples of evaluating arithmetic expressions in Python"
   ]
  },
  {
   "cell_type": "code",
   "execution_count": 3,
   "id": "cf2af1a1-7624-4cd6-90fa-2d708ad94d77",
   "metadata": {
    "tags": []
   },
   "outputs": [
    {
     "name": "stdout",
     "output_type": "stream",
     "text": [
      "17\n"
     ]
    }
   ],
   "source": [
    "# This a simple arithmetic expression to mutiply then add integers\n",
    "Equation = (3*4)+5\n",
    "print(Equation)"
   ]
  },
  {
   "cell_type": "code",
   "execution_count": 4,
   "id": "8db20b4b-6db8-4167-9105-bc3c97c17ad0",
   "metadata": {
    "tags": []
   },
   "outputs": [
    {
     "name": "stdout",
     "output_type": "stream",
     "text": [
      "3.3333333333333335\n"
     ]
    }
   ],
   "source": [
    "# This will convert 200 minutes to hours by diving by 60\n",
    "Minutes = 200\n",
    "Hours = Minutes/60\n",
    "print(Hours)"
   ]
  },
  {
   "cell_type": "markdown",
   "id": "3703f739-1853-4216-a358-86a4b0199482",
   "metadata": {},
   "source": [
    "## Author\n",
    "----------------\n",
    "Karthikeya Kalyan Kavi"
   ]
  }
 ],
 "metadata": {
  "kernelspec": {
   "display_name": "Python",
   "language": "python",
   "name": "conda-env-python-py"
  },
  "language_info": {
   "codemirror_mode": {
    "name": "ipython",
    "version": 3
   },
   "file_extension": ".py",
   "mimetype": "text/x-python",
   "name": "python",
   "nbconvert_exporter": "python",
   "pygments_lexer": "ipython3",
   "version": "3.7.12"
  }
 },
 "nbformat": 4,
 "nbformat_minor": 5
}
